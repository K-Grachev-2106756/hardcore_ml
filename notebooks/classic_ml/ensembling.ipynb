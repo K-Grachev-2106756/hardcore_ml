{
 "cells": [
  {
   "cell_type": "code",
   "execution_count": 1,
   "id": "9f1a3fd0",
   "metadata": {},
   "outputs": [],
   "source": [
    "import numpy as np\n",
    "np.random.seed(42)"
   ]
  },
  {
   "cell_type": "markdown",
   "id": "573f14da",
   "metadata": {},
   "source": [
    "! Aнсамблирование — это общий термин, обозначающий любую технику, которая создаёт прогнозы путём объединения прогнозов нескольких моделей.\n",
    "\n",
    "Ансамблевые подходы часто могут повысить производительность одной модели. Ансамблевый подход может помочь снизить:\n",
    "\n",
    "- Дисперсия путем усреднения нескольких моделей\n",
    "\n",
    "- Предвзятость, возникающая при итеративном исправлении ошибок\n",
    "\n",
    "- Переобучение, поскольку использование нескольких моделей может повысить устойчивость к ложным связям\n",
    "\n",
    "! Почему ансамбль не переобучается, как дерево?\n",
    "\n",
    "Одно дерево — склонно к переобучению, если дать ему много свободы. В ансамбле каждое дерево переобучается по-своему, но их ошибки не совпадают. При усреднении они взаимно гасятся, а верные сигналы остаются. Статистически в среднем, если у каждого дерева вероятность угадать класс > 0.5, то вместе в среднем чем больше деревьев, тем выше вероятность правильного предсказания. Даже если отдельные деревья переобучены — их ошибки не коррелируют, и итоговое предсказание сглаживает шум."
   ]
  },
  {
   "cell_type": "code",
   "execution_count": 7,
   "id": "ed5116f8",
   "metadata": {},
   "outputs": [],
   "source": [
    "from sklearn.datasets import load_breast_cancer\n",
    "from sklearn.model_selection import train_test_split\n",
    "from sklearn.metrics import roc_auc_score, classification_report\n",
    "from sklearn.tree import DecisionTreeClassifier\n",
    "\n",
    "\n",
    "ds = load_breast_cancer()\n",
    "\n",
    "clf_x_tr, clf_x_test, clf_y_tr, clf_y_test = train_test_split(ds[\"data\"], ds[\"target\"], test_size=0.2, random_state=42, shuffle=True)"
   ]
  },
  {
   "cell_type": "markdown",
   "id": "bc468cb5",
   "metadata": {},
   "source": [
    "# Bagging и Random Forest"
   ]
  },
  {
   "cell_type": "markdown",
   "id": "1083da99",
   "metadata": {},
   "source": [
    "Бэггинг — это особый метод ансамблевого обучения, который используется для уменьшения дисперсии прогностической модели. Дисперсия в смысле машинного обучения - насколько модель меняется при изменении обучающего набора данных. Поскольку бэггинг помогает уменьшить дисперсию модели машинного обучения, он часто улучшает модели с высокой дисперсией (например, деревья решений и KNN), но малоэффективен для моделей с низкой дисперсией (например, линейная регрессия).\n",
    "\n",
    "\n",
    "Случайный лес - на каждом разбиении дерева выбирается случайное подмножество признаков для лучшего разделения. Дополнительная случайность (выбор признаков) снижает корреляцию между деревьями. Фичи случайны — деревья не просто по-разному обучаются, но и по-разному \"смотрят\" на данные. Это усиливает разнообразие."
   ]
  },
  {
   "cell_type": "code",
   "execution_count": 8,
   "id": "5d2002e3",
   "metadata": {},
   "outputs": [],
   "source": [
    "class ClfRandomForest:\n",
    "\n",
    "    def __init__(self, n_trees: int, **tree_kwargs):\n",
    "        self.n_trees = n_trees\n",
    "        self.trees = []\n",
    "        self.tree_params = tree_kwargs\n",
    "\n",
    "    \n",
    "    def fit(self, x: np.array, y: np.array, bootstrap_part: float = 0.5):\n",
    "        self.classes = sorted(np.unique(y))\n",
    "\n",
    "        bootstrap_size = int(len(y) * bootstrap_part)\n",
    "\n",
    "        for _ in range(self.n_trees):\n",
    "            idx = np.random.randint(0, len(y), size=(bootstrap_size, ))\n",
    "            tree = DecisionTreeClassifier(**self.tree_params)\n",
    "            tree.fit(x[idx], y[idx])\n",
    "            tree.classes = self.classes\n",
    "            self.trees.append(tree)\n",
    "    \n",
    "\n",
    "    def predict(self, x: np.array):\n",
    "        preds = []\n",
    "        for tree in self.trees:\n",
    "            preds.append(tree.predict(x))\n",
    "        \n",
    "        probs = []\n",
    "        for results in np.c_[*preds]:\n",
    "            classes, counts = np.unique(results, return_counts=True)\n",
    "            probs_dict = dict(zip(classes, counts / self.n_trees))\n",
    "\n",
    "            probs.append([probs_dict.get(c, np.float64(0.)) for c in self.classes])\n",
    "        \n",
    "        return np.array(probs)"
   ]
  },
  {
   "cell_type": "code",
   "execution_count": 9,
   "id": "6e3dfc68",
   "metadata": {},
   "outputs": [],
   "source": [
    "bag = ClfRandomForest(\n",
    "    n_trees=10, \n",
    "    criterion=\"gini\",\n",
    "    max_depth=3, \n",
    "    min_samples_split=10, \n",
    "    min_samples_leaf=10,\n",
    "    max_features=10,  # Если None - Bagging, иначе - Random Forest.\n",
    ")\n",
    "bag.fit(clf_x_tr, clf_y_tr)"
   ]
  },
  {
   "cell_type": "code",
   "execution_count": 10,
   "id": "36945606",
   "metadata": {},
   "outputs": [
    {
     "data": {
      "text/plain": [
       "np.float64(0.9970520799213888)"
      ]
     },
     "execution_count": 10,
     "metadata": {},
     "output_type": "execute_result"
    }
   ],
   "source": [
    "roc_auc_score(clf_y_test, bag.predict(clf_x_test)[:, 1])"
   ]
  },
  {
   "cell_type": "markdown",
   "id": "9e81995a",
   "metadata": {},
   "source": [
    "# Boosting"
   ]
  },
  {
   "cell_type": "markdown",
   "id": "afa785cd",
   "metadata": {},
   "source": [
    "Бустинг - метод ансамблевого обучения. В отличие от бэггинга модели зависят друг от друга. Несколько слабых классификаторов обучаются друг за другом, каждый сосредотачивается на ошибках предыдущих.\n",
    "\n",
    "Минимизирует экспоненциальную функцию потерь $sum( exp (-y_i * f_i(x)))$. Таким образом мы ошибочные предсказания штрафуем экспоненциально сильнее, чем уверенные правильные. \n",
    "\n",
    "AdaBoost - жадный градиентный бустинг по экспоненциальной потере."
   ]
  },
  {
   "cell_type": "markdown",
   "id": "f24daa18",
   "metadata": {},
   "source": [
    "### AdaBoost на numpy"
   ]
  },
  {
   "cell_type": "code",
   "execution_count": 11,
   "id": "f440a947",
   "metadata": {},
   "outputs": [],
   "source": [
    "class AdaBoost:\n",
    "\n",
    "    def __init__(self, **tree_kwargs):\n",
    "        self.clfs = []\n",
    "        self.alphas = []\n",
    "        self.tree_params = tree_kwargs\n",
    "    \n",
    "\n",
    "    def fit(self, x: np.array, y: np.array, n_clfs: int):\n",
    "        assert set(np.unique(y)).issubset({-1, 1}), \"classes must be only {-1; 1}\"\n",
    "        \n",
    "        n_samples = len(x)\n",
    "        w = np.ones(n_samples, dtype=float) / n_samples\n",
    "\n",
    "        for _ in range(n_clfs):\n",
    "            # Обучение пня\n",
    "            tree = DecisionTreeClassifier(**self.tree_params)\n",
    "            tree.fit(x, y, sample_weight=w)\n",
    "            \n",
    "            # Расчет взвешенной ошибки\n",
    "            preds = tree.predict(x)\n",
    "            misclassified = (preds != y)\n",
    "            err = np.sum(w * misclassified)\n",
    "\n",
    "            # Если дерево работает хуже случайного предсказателя\n",
    "            if err >= 0.5:\n",
    "                break\n",
    "            \n",
    "            # Вес модели\n",
    "            alpha = 0.5 * np.log((1 - err) / err)\n",
    "\n",
    "            # Обновление весов объектов\n",
    "            w *= np.exp(-alpha * y * preds)\n",
    "            w /= np.sum(w)\n",
    "\n",
    "            # Сохранение пня\n",
    "            self.alphas.append(alpha)\n",
    "            self.clfs.append(tree)\n",
    "\n",
    "    \n",
    "    def _tmp_predict(self, x: np.array):\n",
    "        preds = np.zeros(shape=(x.shape[0], ))\n",
    "        for alpha, model in zip(self.alphas, self.clfs):\n",
    "            preds += alpha * model.predict(x)\n",
    "\n",
    "        return preds\n",
    "    \n",
    "\n",
    "    def predict(self, x: np.array):\n",
    "        return np.sign(self._tmp_predict(x))\n",
    "    \n",
    "    \n",
    "    def predict_proba(self, x: np.array):\n",
    "        logits = self._tmp_predict(x)\n",
    "\n",
    "        probs_pos = 1 / (1 + np.exp(-2 * logits))\n",
    "        probs_neg = 1 - probs_pos\n",
    "\n",
    "        return np.c_[probs_neg, probs_pos]"
   ]
  },
  {
   "cell_type": "code",
   "execution_count": null,
   "id": "b43a6561",
   "metadata": {},
   "outputs": [
    {
     "name": "stdout",
     "output_type": "stream",
     "text": [
      "Результаты на test:\n",
      "\n",
      "               precision    recall  f1-score   support\n",
      "\n",
      "          -1       0.98      0.93      0.95        43\n",
      "           1       0.96      0.99      0.97        71\n",
      "\n",
      "    accuracy                           0.96       114\n",
      "   macro avg       0.97      0.96      0.96       114\n",
      "weighted avg       0.97      0.96      0.96       114\n",
      "\n",
      "ROC-AUC на test: 0.992\n"
     ]
    }
   ],
   "source": [
    "ab = AdaBoost(criterion=\"gini\", max_depth=1, min_samples_leaf=10, min_samples_split=10)\n",
    "\n",
    "ab_y_tr = np.copy(clf_y_tr)\n",
    "ab_y_tr[ab_y_tr == 0] = -1\n",
    "ab.fit(clf_x_tr, ab_y_tr, n_clfs=50)\n",
    "\n",
    "ab_y_test = np.copy(clf_y_test)\n",
    "ab_y_test[ab_y_test == 0] = -1\n",
    "print(\"Результаты на test:\\n\\n\", classification_report(ab_y_test, ab.predict(clf_x_test)))\n",
    "print(\"ROC-AUC на test:\", roc_auc_score(ab_y_test, ab.predict_proba(clf_x_test)[:, 1]).round(3))"
   ]
  },
  {
   "cell_type": "markdown",
   "id": "f2007e2a",
   "metadata": {},
   "source": [
    "### Gradient Boosting on Decision Trees (GBDT)"
   ]
  },
  {
   "cell_type": "markdown",
   "id": "22daf912",
   "metadata": {},
   "source": [
    "Математическая формулировка: при решении задачи регрессии с MSE лосс функцией (L(y, models(x)) = 0.5 * (y - models(x))**2) происходит итеративное приближение функции models к оптимальному решению путем добавления на каждом шаге новой модели. Добавленная модель аппроксимирует отрицательный градиент: \n",
    "\n",
    "grad = dLoss/dmodels(x) = (models(x) - y), т.е -grad = y - models(x)\n",
    "\n",
    "Каждая новая модель обучается на остатках (residuals), что является антиградиентом. \n",
    "\n",
    "При использовании другой функции потерь на каждой итерации предсказывается наилучшее смещение в направлении минимизации функции потерь."
   ]
  },
  {
   "cell_type": "code",
   "execution_count": null,
   "id": "6ee5b006",
   "metadata": {},
   "outputs": [],
   "source": [
    "from sklearn.tree import DecisionTreeRegressor\n",
    "\n",
    "\n",
    "class GBDT:\n",
    "\n",
    "    def __init__(self, **tree_params):\n",
    "        self.trees = []\n",
    "        self.alphas = []\n",
    "        self.tree_params = tree_params\n",
    "\n",
    "\n",
    "    def fit(self, x: np.array, y: np.array, n_estimators: int = 50, lr: float = 0.1):\n",
    "        if len(self.trees) == 0:\n",
    "            preds = np.zeros_like(y)\n",
    "        else:\n",
    "            preds = self.predict(x)\n",
    "        \n",
    "        for _ in range(n_estimators):\n",
    "            residuals = y - preds\n",
    "\n",
    "            tree = DecisionTreeRegressor(**self.tree_params)\n",
    "            tree.fit(x, residuals)\n",
    "\n",
    "            preds += lr * tree.predict(x)\n",
    "\n",
    "            self.alphas.append(lr)\n",
    "            self.trees.append(tree)\n",
    "    \n",
    "\n",
    "    def predict(self, x: np.array):\n",
    "        preds = np.zeros(shape=(len(x), ))\n",
    "        for alpha, tree in zip(self.alphas, self.trees):\n",
    "            preds += alpha * tree.predict(x)\n",
    "        \n",
    "        return preds\n"
   ]
  },
  {
   "cell_type": "code",
   "execution_count": 24,
   "id": "b5c71a9e",
   "metadata": {},
   "outputs": [
    {
     "data": {
      "image/png": "[encoded data removed]",
      "text/plain": [
       "<Figure size 640x480 with 1 Axes>"
      ]
     },
     "metadata": {},
     "output_type": "display_data"
    },
    {
     "name": "stdout",
     "output_type": "stream",
     "text": [
      "RMSE: 0.122\n",
      "MEAN y VALUE: 0.138\n",
      "STD y VALUE: 0.733\n"
     ]
    }
   ],
   "source": [
    "import matplotlib.pyplot as plt\n",
    "from sklearn.metrics import root_mean_squared_error\n",
    "\n",
    "\n",
    "X = np.linspace(0, 5, 100).reshape(-1, 1)\n",
    "y = np.sin(X).ravel() + np.random.normal(0, 0.1, X.shape[0])\n",
    "\n",
    "gbdt = GBDT(max_depth=2, criterion=\"squared_error\", min_samples_leaf=10, min_samples_split=10)\n",
    "\n",
    "for i in range(1, 6):\n",
    "    gbdt.fit(X, y, n_estimators=5)\n",
    "    plt.plot(X, gbdt.predict(X), label=f\"{i * 10} trees\")\n",
    "\n",
    "plt.scatter(X, y, label=\"True\")\n",
    "plt.legend()\n",
    "plt.title(\"Градиентный бустинг (регрессия)\")\n",
    "plt.xlabel(\"x\")\n",
    "plt.ylabel(\"y\")\n",
    "plt.show()\n",
    "\n",
    "print(f\"RMSE: {root_mean_squared_error(y, gbdt.predict(X)):.3f}\")\n",
    "print(f\"MEAN y VALUE: {np.mean(y):.3f}\")\n",
    "print(f\"STD y VALUE: {np.std(y):.3f}\")"
   ]
  },
  {
   "cell_type": "code",
   "execution_count": 25,
   "id": "9a3820cb",
   "metadata": {},
   "outputs": [
    {
     "name": "stdout",
     "output_type": "stream",
     "text": [
      "RMSE: 51.527\n",
      "MEAN y VALUE: 145.775\n",
      "STD y VALUE: 72.788\n"
     ]
    }
   ],
   "source": [
    "from sklearn.datasets import load_diabetes\n",
    "\n",
    "\n",
    "ds = load_diabetes(scaled=False)\n",
    "\n",
    "reg_x_tr, reg_x_test, reg_y_tr, reg_y_test = train_test_split(ds[\"data\"], ds[\"target\"], test_size=0.2, random_state=42, shuffle=True)\n",
    "\n",
    "gbdt = GBDT(max_depth=2, criterion=\"squared_error\", min_samples_leaf=10, min_samples_split=10)\n",
    "\n",
    "gbdt.fit(reg_x_tr, reg_y_tr)\n",
    "\n",
    "print(f\"RMSE: {root_mean_squared_error(reg_y_test, gbdt.predict(reg_x_test)):.3f}\")\n",
    "print(f\"MEAN y VALUE: {np.mean(reg_y_test):.3f}\")\n",
    "print(f\"STD y VALUE: {np.std(reg_y_test):.3f}\")"
   ]
  }
 ],
 "metadata": {
  "kernelspec": {
   "display_name": "ds",
   "language": "python",
   "name": "ds"
  },
  "language_info": {
   "codemirror_mode": {
    "name": "ipython",
    "version": 3
   },
   "file_extension": ".py",
   "mimetype": "text/x-python",
   "name": "python",
   "nbconvert_exporter": "python",
   "pygments_lexer": "ipython3",
   "version": "3.13.0"
  }
 },
 "nbformat": 4,
 "nbformat_minor": 5
}
