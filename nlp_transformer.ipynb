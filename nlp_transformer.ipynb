{
 "cells": [
  {
   "cell_type": "code",
   "execution_count": 1,
   "id": "d15c9786",
   "metadata": {},
   "outputs": [
    {
     "data": {
      "text/plain": [
       "'cuda:0'"
      ]
     },
     "execution_count": 1,
     "metadata": {},
     "output_type": "execute_result"
    }
   ],
   "source": [
    "import torch\n",
    "from torch import nn\n",
    "from torch.nn import functional as F\n",
    "\n",
    "torch.manual_seed(42)\n",
    "\n",
    "device = \"cuda:0\" if torch.cuda.is_available() else \"cpu\"\n",
    "device"
   ]
  },
  {
   "cell_type": "markdown",
   "id": "ca158fbb",
   "metadata": {},
   "source": [
    "# Data"
   ]
  },
  {
   "cell_type": "code",
   "execution_count": 2,
   "id": "0bda9610",
   "metadata": {},
   "outputs": [],
   "source": [
    "class RandomSequenceDataset(torch.utils.data.Dataset):\n",
    "\n",
    "    def __init__(self, data, context_size, length):\n",
    "        self.data = data\n",
    "        self.context_size = context_size\n",
    "        self.length = length  # сколько примеров хотим на эпоху\n",
    "\n",
    "    \n",
    "    def __len__(self):\n",
    "        return self.length\n",
    "\n",
    "    \n",
    "    def __getitem__(self, idx):\n",
    "        # просто игнорируем idx и семплируем случайно\n",
    "        i = torch.randint(0, len(self.data) - self.context_size - 1, (1,)).item()\n",
    "        x = self.data[i : i+self.context_size]\n",
    "        y = self.data[i+1 : i+1+self.context_size]\n",
    "        \n",
    "        return x, y"
   ]
  },
  {
   "cell_type": "code",
   "execution_count": 3,
   "id": "b23227ce",
   "metadata": {},
   "outputs": [
    {
     "data": {
      "text/plain": [
       "'First Citizen:\\nBefore we proceed any further, hear me speak.\\n\\nAll:\\nSpeak, speak.\\n\\nFirst Citizen:\\nYou'"
      ]
     },
     "execution_count": 3,
     "metadata": {},
     "output_type": "execute_result"
    }
   ],
   "source": [
    "with open(\"./data/tinyshakespeare.txt\", \"r\", encoding=\"utf-8\") as f:\n",
    "    text = f.read()\n",
    "\n",
    "text[:100]"
   ]
  },
  {
   "cell_type": "code",
   "execution_count": 4,
   "id": "2282786b",
   "metadata": {},
   "outputs": [],
   "source": [
    "alphabet = sorted(list(set(text)))\n",
    "\n",
    "vocab_size = len(alphabet)\n",
    "\n",
    "ch2i = {ch: i for i, ch in enumerate(alphabet)}\n",
    "i2ch = {i: ch for i, ch in enumerate(alphabet)}\n",
    "\n",
    "encode = lambda s: [ch2i[ch] for ch in s]\n",
    "decode = lambda l: \"\".join([i2ch[i] for i in l])\n",
    "\n",
    "data = torch.tensor(encode(text))\n",
    "n = int(0.9 * len(data))"
   ]
  },
  {
   "cell_type": "markdown",
   "id": "2cd8ff72",
   "metadata": {},
   "source": [
    "# Attention Idea"
   ]
  },
  {
   "cell_type": "code",
   "execution_count": null,
   "id": "d388e58a",
   "metadata": {},
   "outputs": [],
   "source": [
    "b, t, c = 4, 8, 2\n",
    "x = torch.randn(b, t, c)\n",
    "x.shape"
   ]
  },
  {
   "cell_type": "code",
   "execution_count": null,
   "id": "86271e37",
   "metadata": {},
   "outputs": [
    {
     "name": "stdout",
     "output_type": "stream",
     "text": [
      "True\n",
      "True\n"
     ]
    }
   ],
   "source": [
    "# Нужно связать токен с предыдущими, но не с последующими\n",
    "# К примеру, усреднение вектора текущего токена с предыдущими \n",
    "# (теряется информация о расположении токенов, неэффективное представление)\n",
    "\n",
    "# Неэффективный последовательно выполняющийся вариант \n",
    "xbow = torch.zeros((b, t, c))\n",
    "for i_b in range(b):\n",
    "    for i_t in range(t):\n",
    "        xprev = x[i_b, :i_t+1]\n",
    "        xbow[i_b, i_t] = torch.mean(xprev, 0)\n",
    "\n",
    "# Распараллеленный вариант с матричным умножением \n",
    "wei = torch.tril(torch.ones(t, t))  # треугольная матрица\n",
    "wei /= wei.sum(1, keepdim=True)  # при t = 2: [[1, 0], [0.5, 0.5]]\n",
    "xbow2 = wei @ x  # (t, t) @ (b, t, c) --broadcast--> (b, t, t) @ (b, t, c) -> (b, t, c)\n",
    "print(torch.allclose(xbow, xbow2))\n",
    "\n",
    "# С использованием Soft-Max\n",
    "tril = torch.tril(torch.ones(t, t))\n",
    "wei = torch.zeros((t, t))\n",
    "wei = wei.masked_fill(tril == 0, float(\"-inf\"))\n",
    "wei = F.softmax(wei, dim=1)\n",
    "xbow3 = wei @ x\n",
    "print(torch.allclose(xbow, xbow3))"
   ]
  },
  {
   "cell_type": "markdown",
   "id": "997ff5f7",
   "metadata": {},
   "source": [
    "# Transformer Components  (Attention is all you need - 2017)"
   ]
  },
  {
   "cell_type": "code",
   "execution_count": 5,
   "id": "00b34288",
   "metadata": {},
   "outputs": [],
   "source": [
    "class SelfAttentionHead(nn.Module):\n",
    "\n",
    "    def __init__(self, head_size, emb_dim, context_size, dropout=0.2):\n",
    "        super().__init__()\n",
    "        self.queries = nn.Linear(emb_dim, head_size, bias=False)\n",
    "        self.keys = nn.Linear(emb_dim, head_size, bias=False)\n",
    "        self.values = nn.Linear(emb_dim, head_size, bias=False)\n",
    "        self.dropout = nn.Dropout(dropout)  # Dropout: a simple way to prevent nn from overfitting (2014)\n",
    "\n",
    "        self.register_buffer(\"tril\", torch.tril(torch.ones(context_size, context_size)))\n",
    "\n",
    "    \n",
    "    def forward(self, idx):\n",
    "        b, t, c = idx.shape\n",
    "        \n",
    "        wei = self.keys(idx) @ self.queries(idx).transpose(-2, -1) * c ** (-0.5)\n",
    "        wei = wei.masked_fill(self.tril[:t, :t] == 0, float(\"-inf\"))  # Диагональ применяется для блока декодера, \n",
    "                                                                      # в энкодер блоках допускается взаимосвязь между предыдущими и последующими токенами\n",
    "        wei = F.softmax(wei, dim=-1)\n",
    "        wei = self.dropout(wei)\n",
    "\n",
    "        return wei @ self.values(idx)\n",
    "    \n",
    "\n",
    "class MultiHeadAttention(nn.Module):\n",
    "\n",
    "    def __init__(self, num_heads, head_size, emb_dim, context_size, dropout=0.2):\n",
    "        super().__init__()\n",
    "        self.heads = nn.ModuleList([SelfAttentionHead(head_size, emb_dim, context_size) for _ in range(num_heads)])\n",
    "        self.proj = nn.Linear(num_heads * head_size, num_heads * head_size)\n",
    "        self.dropout = nn.Dropout(dropout)\n",
    "\n",
    "    \n",
    "    def forward(self, idx):\n",
    "        out = torch.cat([h(idx) for h in self.heads], dim=-1)\n",
    "        out = self.proj(out)  # Линейное преобразование\n",
    "        \n",
    "        return self.dropout(out)\n",
    "    \n",
    "\n",
    "class FeedForward(nn.Module):\n",
    "\n",
    "    def __init__(self, emb_dim, dropout=0.2):\n",
    "        super().__init__()\n",
    "        self.net = nn.Sequential(\n",
    "            nn.Linear(emb_dim, 4 * emb_dim),\n",
    "            nn.ReLU(),\n",
    "            nn.Linear(4 * emb_dim, emb_dim),  # Линейное преобразование\n",
    "            nn.Dropout(dropout),\n",
    "        )\n",
    "\n",
    "    \n",
    "    def forward(self, idx):\n",
    "        return self.net(idx)\n",
    "\n",
    "\n",
    "class TrfBlock(nn.Module):\n",
    "    \n",
    "    def __init__(self, emb_dim, num_heads, context_size, dropout=0.2):\n",
    "        super().__init__()\n",
    "        self.sa_heads = MultiHeadAttention(\n",
    "            num_heads=num_heads, \n",
    "            emb_dim=emb_dim,\n",
    "            head_size=emb_dim // num_heads, \n",
    "            context_size=context_size,\n",
    "            dropout=dropout,\n",
    "        )\n",
    "        self.ffwd_net = FeedForward(emb_dim, dropout=dropout)\n",
    "        self.layer_norm1 = nn.LayerNorm(emb_dim)  # Layer Normalization (2016)\n",
    "        self.layer_norm2 = nn.LayerNorm(emb_dim)\n",
    "    \n",
    "    \n",
    "    def forward(self, idx):\n",
    "        x = idx + self.sa_heads(self.layer_norm1(idx))  # Deep Residual Learning for Image Recognition (2015)\n",
    "        x = x + self.ffwd_net(self.layer_norm2(x))\n",
    "        return x"
   ]
  },
  {
   "cell_type": "markdown",
   "id": "a5246c82",
   "metadata": {},
   "source": [
    "# Model"
   ]
  },
  {
   "cell_type": "code",
   "execution_count": 6,
   "id": "a09da228",
   "metadata": {},
   "outputs": [],
   "source": [
    "class DecoderOnlyModel(nn.Module):\n",
    "    \n",
    "    def __init__(self, vocab_size, context_size, emb_dim, n_blocks, dropout=0.2):\n",
    "        super().__init__()\n",
    "\n",
    "        self.token_emb_table = nn.Embedding(vocab_size, emb_dim)\n",
    "        self.positional_emb_table = nn.Embedding(context_size, emb_dim)\n",
    "        self.blocks = nn.Sequential(*[\n",
    "            TrfBlock(\n",
    "                emb_dim=emb_dim, \n",
    "                num_heads=4, \n",
    "                context_size=context_size,\n",
    "                dropout=dropout,\n",
    "            ) for _ in range(n_blocks)\n",
    "        ])\n",
    "        self.layer_norm = nn.LayerNorm(emb_dim)\n",
    "        self.classifier = nn.Linear(emb_dim, vocab_size)\n",
    "            \n",
    "    \n",
    "    def forward(self, idx, targets=None):\n",
    "        b, t = idx.shape\n",
    "\n",
    "        tok_embs = self.token_emb_table(idx)  # batch_size x context_size x emb_dim\n",
    "        pos_embs = self.positional_emb_table(torch.arange(t, device=idx.device))  # context_size x emb_dim\n",
    "        x = tok_embs + pos_embs\n",
    "        x = self.blocks(x)\n",
    "        x = self.layer_norm(x)\n",
    "        logits = self.classifier(x)  # (batch_size, context_size, emb_dim) @ (emb_dim, vocab_size) -> (batch_size, context_size, vocab_size)\n",
    "        \n",
    "        loss = None\n",
    "        if targets is not None:\n",
    "            batch_size, n_tensors, emb_dim = logits.shape\n",
    "            logits = logits.view(batch_size * n_tensors, emb_dim)\n",
    "            targets = targets.view(batch_size * n_tensors)\n",
    "            loss = F.cross_entropy(logits, targets)\n",
    "        \n",
    "        return logits, loss\n",
    "    \n",
    "\n",
    "    def generate(self, idx, max_new_tokens, context_size):\n",
    "        with torch.no_grad():\n",
    "            for _ in range(max_new_tokens):\n",
    "                idx_cond = idx[:, -context_size:]\n",
    "                logits, _ = self(idx_cond)\n",
    "                logits = logits[:, -1, :]  # Биграммная модель предсказывает, основываясь на последнем токене (-1)\n",
    "                probs = F.softmax(logits, dim=-1)\n",
    "                idx_next = torch.multinomial(probs, num_samples=1)  # Предсказание следующего токена\n",
    "                idx = torch.cat((idx, idx_next), dim=1)\n",
    "            \n",
    "            return idx"
   ]
  },
  {
   "cell_type": "markdown",
   "id": "87b4be04",
   "metadata": {},
   "source": [
    "# Train"
   ]
  },
  {
   "cell_type": "code",
   "execution_count": 7,
   "id": "39069b51",
   "metadata": {},
   "outputs": [
    {
     "name": "stdout",
     "output_type": "stream",
     "text": [
      "55745 parameters\n"
     ]
    }
   ],
   "source": [
    "context_size = 32  # what is the maximum context length for predictions?\n",
    "batch_size = 256 # how many independent sequences will we process in parallel?\n",
    "emb_dim = 32\n",
    "n_blocks = 4\n",
    "dropout = 0.1\n",
    "\n",
    "\n",
    "model = DecoderOnlyModel(\n",
    "    vocab_size=vocab_size,\n",
    "    context_size=context_size,\n",
    "    emb_dim=emb_dim,\n",
    "    n_blocks=n_blocks,\n",
    "    dropout=dropout,\n",
    ").to(device)\n",
    "\n",
    "print(sum(p.numel() for p in model.parameters()), \"parameters\")\n",
    "\n",
    "train_dataset = RandomSequenceDataset(data[:n], context_size=context_size, length=n)\n",
    "val_dataset = RandomSequenceDataset(data[n:], context_size=context_size, length=len(data)-n)\n",
    "\n",
    "train_dataloader = torch.utils.data.DataLoader(\n",
    "    train_dataset,\n",
    "    batch_size=batch_size,\n",
    "    num_workers=0,          # используем 4 CPU-процесса для генерации данных\n",
    "    pin_memory=True         # ускоренная передача на GPU\n",
    ")\n",
    "\n",
    "val_dataloader = torch.utils.data.DataLoader(\n",
    "    val_dataset,\n",
    "    batch_size=batch_size,\n",
    "    num_workers=0,          # используем 4 CPU-процесса для генерации данных\n",
    "    pin_memory=True         # ускоренная передача на GPU\n",
    ")"
   ]
  },
  {
   "cell_type": "code",
   "execution_count": null,
   "id": "58e1e80f",
   "metadata": {},
   "outputs": [],
   "source": [
    "from tqdm import tqdm \n",
    "\n",
    "\n",
    "epoches = 100\n",
    "\n",
    "optim = torch.optim.AdamW(model.parameters(), lr=1e-4)\n",
    "\n",
    "train_lossi = []\n",
    "for epoch in range(epoches):\n",
    "    print(f\"{epoch=}\")\n",
    "\n",
    "    lossi = []\n",
    "    model.train()\n",
    "    for x, y in tqdm(train_dataloader):\n",
    "\n",
    "        x, y = x.to(device), y.to(device)\n",
    "        logits, loss = model(x, y)\n",
    "\n",
    "        optim.zero_grad()\n",
    "        loss.backward()\n",
    "        optim.step()\n",
    "\n",
    "        lossi.append(loss.item())\n",
    "\n",
    "    print(\"mean_train_loss:\", sum(lossi) / len(lossi))\n",
    "    train_lossi.extend(lossi)\n",
    "\n",
    "    lossi = []\n",
    "    model.eval()\n",
    "    with torch.no_grad():\n",
    "        for x, y in tqdm(val_dataloader):\n",
    "\n",
    "            x, y = x.to(device), y.to(device)\n",
    "            logits, loss = model(idx=x, targets=y)\n",
    "\n",
    "            lossi.append(loss.item())\n",
    "    \n",
    "    print(\"mean_val_loss:\", sum(lossi) / len(lossi))"
   ]
  },
  {
   "cell_type": "code",
   "execution_count": 16,
   "id": "99edc05b",
   "metadata": {},
   "outputs": [
    {
     "data": {
      "text/plain": [
       "[<matplotlib.lines.Line2D at 0x227b2df6d90>]"
      ]
     },
     "execution_count": 16,
     "metadata": {},
     "output_type": "execute_result"
    },
    {
     "data": {
      "image/png": "[encoded data removed]",
      "text/plain": [
       "<Figure size 640x480 with 1 Axes>"
      ]
     },
     "metadata": {},
     "output_type": "display_data"
    }
   ],
   "source": [
    "import matplotlib.pyplot as plt\n",
    "\n",
    "plt.plot(torch.tensor(train_lossi[:62000]).view(-1, 1000).mean(1))"
   ]
  },
  {
   "cell_type": "code",
   "execution_count": 10,
   "id": "825beab1",
   "metadata": {},
   "outputs": [
    {
     "name": "stdout",
     "output_type": "stream",
     "text": [
      "\n",
      "Windoon Lord whe'd ecave and leave.\n",
      "\n",
      "RADY LOVERS:\n",
      "Cowambead,\n",
      "apout,\n",
      "But musie\n",
      "The daznot, son is therefechy a plechars,-Is wount her jemesw mut not suppettier:\n",
      "He go ast I nleast my orns!\n",
      "\n",
      "Sich, Frong hold's which the doud lovet,\n",
      "For long on Sheect.\n",
      "\n",
      "ANTING VI:\n",
      "And houbt his bothery peady\n",
      "Metayen take Pearicty 'Tance?  would man wouseds it, do do him sire,\n",
      "Will the to thee sis, let the augh that am the very mirggtients.\n",
      "\n",
      "MERA:\n",
      "And have me and I not Was Rind the pred.\n",
      "\n",
      "ENRY ARICANT:\n",
      "Prinst if mering lipter no his mutter of is worter's fnot!\n",
      "AnTwant the landy as own, let\n",
      "To have seek of yoursh tore be there lead old liegue.\n",
      "Plut pown: Marct-love to faise,\n",
      "There the canstle, got, not, you set time sead pervalliated\n",
      "Tone secout heself.\n",
      "Kor In hurmake of your acurstings at she't.\n",
      "Riciatness' dided the to deart anod, cher cland pecerful buthild this my\n",
      "To than\n",
      "your wixth that or bear\n",
      "they be all on toiled had enremary:\n",
      "For that strum. She:\n",
      "Oe, my prisous him\n",
      "Off this, Lady bud faughtser? whe\n"
     ]
    }
   ],
   "source": [
    "print(\n",
    "    decode(\n",
    "        model.generate(\n",
    "            idx=torch.zeros((1, 1), dtype=torch.long, device=device), \n",
    "            max_new_tokens=1000, \n",
    "            context_size=context_size,\n",
    "        )[0].tolist()\n",
    "    )\n",
    ")"
   ]
  }
 ],
 "metadata": {
  "kernelspec": {
   "display_name": "ipynb",
   "language": "python",
   "name": "ipynb"
  },
  "language_info": {
   "codemirror_mode": {
    "name": "ipython",
    "version": 3
   },
   "file_extension": ".py",
   "mimetype": "text/x-python",
   "name": "python",
   "nbconvert_exporter": "python",
   "pygments_lexer": "ipython3",
   "version": "3.9.7"
  }
 },
 "nbformat": 4,
 "nbformat_minor": 5
}
